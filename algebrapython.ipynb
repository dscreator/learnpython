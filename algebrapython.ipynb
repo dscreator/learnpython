{
  "nbformat": 4,
  "nbformat_minor": 0,
  "metadata": {
    "colab": {
      "provenance": [],
      "toc_visible": true,
      "authorship_tag": "ABX9TyO9jZn3IJHMslBFlR9pK6WK",
      "include_colab_link": true
    },
    "kernelspec": {
      "name": "python3",
      "display_name": "Python 3"
    },
    "language_info": {
      "name": "python"
    }
  },
  "cells": [
    {
      "cell_type": "markdown",
      "metadata": {
        "id": "view-in-github",
        "colab_type": "text"
      },
      "source": [
        "<a href=\"https://colab.research.google.com/github/dscreator/learnpython/blob/master/algebrapython.ipynb\" target=\"_parent\"><img src=\"https://colab.research.google.com/assets/colab-badge.svg\" alt=\"Open In Colab\"/></a>"
      ]
    },
    {
      "cell_type": "code",
      "execution_count": 2,
      "metadata": {
        "colab": {
          "base_uri": "https://localhost:8080/"
        },
        "id": "aJhKmiTjsQYM",
        "outputId": "465115ac-56fc-4e8f-d936-1341008405ee"
      },
      "outputs": [
        {
          "output_type": "stream",
          "name": "stdout",
          "text": [
            "Enter the first number: 4\n",
            "Enter the second number: 5\n",
            "The product of 4.0 and 5.0 is 20.0\n"
          ]
        }
      ],
      "source": [
        "# prompt: create a python program to multiple two numbers\n",
        "\n",
        "def multiply(a, b):\n",
        "  \"\"\"\n",
        "  This function takes two numbers as arguments and returns their product.\n",
        "\n",
        "  Args:\n",
        "    a: The first number.\n",
        "    b: The second number.\n",
        "\n",
        "  Returns:\n",
        "    The product of a and b.\n",
        "  \"\"\"\n",
        "  product = a * b\n",
        "  return product\n",
        "\n",
        "# Get the two numbers from the user.\n",
        "a = float(input(\"Enter the first number: \"))\n",
        "b = float(input(\"Enter the second number: \"))\n",
        "\n",
        "# Multiply the two numbers and print the result.\n",
        "product = multiply(a, b)\n",
        "print(\"The product of\", a, \"and\", b, \"is\", product)\n"
      ]
    },
    {
      "cell_type": "markdown",
      "source": [
        "# Multiply two numbers"
      ],
      "metadata": {
        "id": "_W77ig8Iuhpb"
      }
    },
    {
      "cell_type": "markdown",
      "source": [
        "**Simple multiplication of two number**"
      ],
      "metadata": {
        "id": "w7hx1ZRzwye8"
      }
    },
    {
      "cell_type": "code",
      "source": [
        "a = float (input (\"first number?\"))\n",
        "b = float (input (\"second number?\"))\n",
        "product = a * b\n",
        "print (product)"
      ],
      "metadata": {
        "colab": {
          "base_uri": "https://localhost:8080/"
        },
        "id": "XxXWWlbQvf6_",
        "outputId": "ac189246-e8fd-4b5f-f959-edf724e06851"
      },
      "execution_count": 5,
      "outputs": [
        {
          "output_type": "stream",
          "name": "stdout",
          "text": [
            "first number?5\n",
            "second number?5\n",
            "25.0\n"
          ]
        }
      ]
    },
    {
      "cell_type": "markdown",
      "source": [
        "# Raise two numbers"
      ],
      "metadata": {
        "id": "RHxxMcHzuuW6"
      }
    },
    {
      "cell_type": "code",
      "source": [
        "a = float(input(\"base?\"))\n",
        "b = float (input (\"exponent?\"))\n",
        "raised = a ** b\n",
        "print (raised)\n",
        "\n"
      ],
      "metadata": {
        "colab": {
          "base_uri": "https://localhost:8080/"
        },
        "id": "6WuxZjSvu-Cm",
        "outputId": "8ef3976c-b3de-478e-dc92-0b160fb40125"
      },
      "execution_count": 3,
      "outputs": [
        {
          "output_type": "stream",
          "name": "stdout",
          "text": [
            "base?2\n",
            "exponent?3\n",
            "8.0\n"
          ]
        }
      ]
    }
  ]
}